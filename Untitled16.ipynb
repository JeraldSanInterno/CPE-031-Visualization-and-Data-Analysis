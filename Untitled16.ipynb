{
  "nbformat": 4,
  "nbformat_minor": 0,
  "metadata": {
    "colab": {
      "provenance": [],
      "authorship_tag": "ABX9TyMuw7Av0cd+pz2eJ6psYYZh",
      "include_colab_link": true
    },
    "kernelspec": {
      "name": "python3",
      "display_name": "Python 3"
    },
    "language_info": {
      "name": "python"
    }
  },
  "cells": [
    {
      "cell_type": "markdown",
      "metadata": {
        "id": "view-in-github",
        "colab_type": "text"
      },
      "source": [
        "<a href=\"https://colab.research.google.com/github/JeraldSanInterno/CPE-031-Visualization-and-Data-Analysis/blob/main/Untitled16.ipynb\" target=\"_parent\"><img src=\"https://colab.research.google.com/assets/colab-badge.svg\" alt=\"Open In Colab\"/></a>"
      ]
    },
    {
      "cell_type": "code",
      "execution_count": 1,
      "metadata": {
        "colab": {
          "base_uri": "https://localhost:8080/"
        },
        "id": "DaleHWTWITP-",
        "outputId": "3a916822-a27f-4e38-ab40-e9fc60d380e5"
      },
      "outputs": [
        {
          "output_type": "stream",
          "name": "stdout",
          "text": [
            "Mounted at /content/drive\n"
          ]
        }
      ],
      "source": [
        "from google.colab import drive\n",
        "drive.mount('/content/drive')"
      ]
    },
    {
      "cell_type": "code",
      "source": [
        "import pandas as pd\n",
        "df = pd.read_excel('/content/drive/MyDrive/Colab Notebooks/ComputerData.xlsx')"
      ],
      "metadata": {
        "id": "oXJl0bdQIquO"
      },
      "execution_count": 7,
      "outputs": []
    },
    {
      "cell_type": "code",
      "source": [
        "print(df)"
      ],
      "metadata": {
        "colab": {
          "base_uri": "https://localhost:8080/"
        },
        "id": "UiyC1T-OJLDe",
        "outputId": "fe377955-5518-4e76-9a6f-b62bac1ca2d5"
      },
      "execution_count": 8,
      "outputs": [
        {
          "output_type": "stream",
          "name": "stdout",
          "text": [
            "   Computer ID   Brand        Model    Processor  RAM (GB)  Storage (GB)  \\\n",
            "0            1    Dell       XPS 13     Intel i7        16           512   \n",
            "1            2      HP  Pavilion 15  AMD Ryzen 5         8           256   \n",
            "2            3   Apple  MacBook Pro     Apple M1        16          1024   \n",
            "3            4  Lenovo  ThinkPad X1     Intel i9        32           512   \n",
            "4            5    Asus   ZenBook 14     Intel i5        16           512   \n",
            "\n",
            "      Graphics Card  Price ($)  \n",
            "0     Intel Iris Xe       1200  \n",
            "1        AMD Radeon        800  \n",
            "2  Apple Integrated       2400  \n",
            "3   NVIDIA GTX 1650       1800  \n",
            "4      NVIDIA MX250       1000  \n"
          ]
        }
      ]
    }
  ]
}